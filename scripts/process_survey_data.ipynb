{
  "nbformat": 4,
  "nbformat_minor": 0,
  "metadata": {
    "environment": {
      "name": "pytorch-gpu.1-4.m46",
      "type": "gcloud",
      "uri": "gcr.io/deeplearning-platform-release/pytorch-gpu.1-4:m46"
    },
    "kernelspec": {
      "display_name": "predicting-poverty-replication",
      "language": "python",
      "name": "predicting-poverty-replication"
    },
    "language_info": {
      "codemirror_mode": {
        "name": "ipython",
        "version": 3
      },
      "file_extension": ".py",
      "mimetype": "text/x-python",
      "name": "python",
      "nbconvert_exporter": "python",
      "pygments_lexer": "ipython3",
      "version": "3.7.6"
    },
    "colab": {
      "name": "process_survey_data.ipynb",
      "provenance": []
    }
  },
  "cells": [
    {
      "cell_type": "markdown",
      "metadata": {
        "id": "vmLZ8l5m7RDZ"
      },
      "source": [
        "Make sure you download the 2016 Household LSMS survey data for Malawi, Ethiopia, and Nigeria from https://microdata.worldbank.org/index.php/catalog/lsms and put it in `../data/countries/`. Malawi's data should be named `malawi_2016/LSMS`, Ethiopia's should be named `ethiopia_2015/LSMS`, and Nigeria's should be named `nigeria_2015/LSMS`. Nightlights data should be downloaded from https://ngdc.noaa.gov/eog/viirs/download_dnb_composites.html using the annual composite from 2015 in tile 2 and tile 5."
      ]
    },
    {
      "cell_type": "code",
      "metadata": {
        "id": "ivi0LWob7RDk"
      },
      "source": [
        "import pandas as pd\n",
        "import numpy as np\n",
        "import os\n",
        "import geoio"
      ],
      "execution_count": null,
      "outputs": []
    },
    {
      "cell_type": "code",
      "metadata": {
        "id": "_y2ezhcp7RDm"
      },
      "source": [
        "BASE_DIR = '..'\n",
        "NIGHTLIGHTS_DIRS = [os.path.join(BASE_DIR, 'data/nightlights/viirs_2015_00N060W.tif'),\n",
        "                    os.path.join(BASE_DIR, 'data/nightlights/viirs_2015_75N060W.tif')]\n",
        "\n",
        "COUNTRIES_DIR = os.path.join(BASE_DIR, 'data', 'countries')"
      ],
      "execution_count": null,
      "outputs": []
    },
    {
      "cell_type": "code",
      "metadata": {
        "id": "wj6ntwoP7RDn"
      },
      "source": [
        "import sys\n",
        "sys.path.append(BASE_DIR)\n",
        "from utils import create_space"
      ],
      "execution_count": null,
      "outputs": []
    },
    {
      "cell_type": "code",
      "metadata": {
        "id": "guWeByW37RDq"
      },
      "source": [
        "'''\n",
        "The goal of each of these functions is to output a dataframe with the following columns:\n",
        "country, cluster_lat, cluster_lon, cons_pc\n",
        "\n",
        "Each row should represent one cluster by combining the household data\n",
        "'''\n",
        "\n",
        "def process_malawi():\n",
        "    lsms_dir = os.path.join(COUNTRIES_DIR, 'malawi_2016', 'LSMS')\n",
        "    consumption_file = 'IHS4 Consumption Aggregate.csv'\n",
        "    consumption_ph_col = 'rexpagg' # per household\n",
        "    hhsize_col = 'hhsize' # people in household\n",
        "\n",
        "    geovariables_file = 'HouseholdGeovariables_csv/HouseholdGeovariablesIHS4.csv'\n",
        "    lat_col = 'lat_modified'\n",
        "    lon_col = 'lon_modified'\n",
        "\n",
        "    # purchasing power parity for malawi in 2016 (https://data.worldbank.org/indicator/PA.NUS.PRVT.PP?locations=MW)\n",
        "    ppp = 215.182\n",
        "    \n",
        "    for file in [consumption_file, geovariables_file]:\n",
        "        assert os.path.isfile(os.path.join(lsms_dir, file)), print(f'Could not find {file}')\n",
        "    \n",
        "    df = pd.read_csv(os.path.join(lsms_dir, consumption_file))\n",
        "    df['cons_ph'] = df[consumption_ph_col]\n",
        "    df['pph'] = df[hhsize_col]\n",
        "    df['cons_ph'] = df['cons_ph'] / ppp / 365\n",
        "    df = df[['case_id', 'cons_ph', 'pph']]\n",
        "\n",
        "    df_geo = pd.read_csv(os.path.join(lsms_dir, geovariables_file))\n",
        "    df_cords = df_geo[['case_id', 'HHID', lat_col, lon_col]]\n",
        "    df_cords.rename(columns={lat_col: 'cluster_lat', lon_col: 'cluster_lon'}, inplace=True)\n",
        "    df_combined = pd.merge(df, df_cords, on='case_id')\n",
        "    df_combined.drop(['case_id', 'HHID'], axis=1, inplace=True)\n",
        "    df_combined.dropna(inplace=True) # can't use na values\n",
        "    \n",
        "    df_clusters = df_combined.groupby(['cluster_lat', 'cluster_lon']).sum().reset_index()\n",
        "    df_clusters['cons_pc'] = df_clusters['cons_ph'] / df_clusters['pph'] # divides total cluster income by people\n",
        "    df_clusters['country'] = 'mw'\n",
        "    return df_clusters[['country', 'cluster_lat', 'cluster_lon', 'cons_pc']]\n",
        "\n",
        "def process_ethiopia():\n",
        "    lsms_dir = os.path.join(COUNTRIES_DIR, 'ethiopia_2015', 'LSMS')\n",
        "    consumption_file = 'Consumption Aggregate/cons_agg_w3.csv'\n",
        "    consumption_pc_col = 'total_cons_ann' # per capita\n",
        "    hhsize_col = 'hh_size' # people in household\n",
        "\n",
        "    geovariables_file = 'Geovariables/ETH_HouseholdGeovars_y3.csv'\n",
        "    lat_col = 'lat_dd_mod'\n",
        "    lon_col = 'lon_dd_mod'\n",
        "\n",
        "    # purchasing power parity for ethiopia in 2015 (https://data.worldbank.org/indicator/PA.NUS.PRVT.PP?locations=ET)\n",
        "    ppp = 7.882\n",
        "    \n",
        "    for file in [consumption_file, geovariables_file]:\n",
        "        assert os.path.isfile(os.path.join(lsms_dir, file)), print(f'Could not find {file}')\n",
        "    \n",
        "    df = pd.read_csv(os.path.join(lsms_dir, consumption_file))\n",
        "    df['cons_ph'] = df[consumption_pc_col] * df[hhsize_col]\n",
        "    df['pph'] = df[hhsize_col]\n",
        "    df['cons_ph'] = df['cons_ph'] / ppp / 365\n",
        "    df = df[['household_id2', 'cons_ph', 'pph']]\n",
        "\n",
        "    df_geo = pd.read_csv(os.path.join(lsms_dir, geovariables_file))\n",
        "    df_cords = df_geo[['household_id2', lat_col, lon_col]]\n",
        "    df_cords.rename(columns={lat_col: 'cluster_lat', lon_col: 'cluster_lon'}, inplace=True)\n",
        "    df_combined = pd.merge(df, df_cords, on='household_id2')\n",
        "    df_combined.drop(['household_id2'], axis=1, inplace=True)\n",
        "    df_combined.dropna(inplace=True) # can't use na values\n",
        "    \n",
        "    df_clusters = df_combined.groupby(['cluster_lat', 'cluster_lon']).sum().reset_index()\n",
        "    df_clusters['cons_pc'] = df_clusters['cons_ph'] / df_clusters['pph'] # divides total cluster income by people\n",
        "    df_clusters['country'] = 'eth'\n",
        "    return df_clusters[['country', 'cluster_lat', 'cluster_lon', 'cons_pc']]\n",
        "\n",
        "def process_nigeria():\n",
        "    lsms_dir = os.path.join(COUNTRIES_DIR, 'nigeria_2015', 'LSMS')\n",
        "    consumption_file = 'cons_agg_wave3_visit1.csv'\n",
        "    consumption_pc_col = 'totcons' # per capita\n",
        "    hhsize_col = 'hhsize' # people in household\n",
        "\n",
        "    geovariables_file = 'nga_householdgeovars_y3.csv'\n",
        "    lat_col = 'LAT_DD_MOD'\n",
        "    lon_col = 'LON_DD_MOD'\n",
        "\n",
        "    # purchasing power parity for nigeria in 2015 (https://data.worldbank.org/indicator/PA.NUS.PRVT.PP?locations=NG)\n",
        "    ppp = 95.255\n",
        "    \n",
        "    for file in [consumption_file, geovariables_file]:\n",
        "        assert os.path.isfile(os.path.join(lsms_dir, file)), print(f'Could not find {file}')\n",
        "    \n",
        "    df = pd.read_csv(os.path.join(lsms_dir, consumption_file))\n",
        "    df['cons_ph'] = df[consumption_pc_col] * df[hhsize_col]\n",
        "    df['pph'] = df[hhsize_col]\n",
        "    df['cons_ph'] = df['cons_ph'] / ppp / 365\n",
        "    df = df[['hhid', 'cons_ph', 'pph']]\n",
        "\n",
        "    df_geo = pd.read_csv(os.path.join(lsms_dir, geovariables_file))\n",
        "    df_cords = df_geo[['hhid', lat_col, lon_col]]\n",
        "    df_cords.rename(columns={lat_col: 'cluster_lat', lon_col: 'cluster_lon'}, inplace=True)\n",
        "    df_combined = pd.merge(df, df_cords, on='hhid')\n",
        "    df_combined.drop(['hhid'], axis=1, inplace=True)\n",
        "    df_combined.dropna(inplace=True) # can't use na values\n",
        "    \n",
        "    df_clusters = df_combined.groupby(['cluster_lat', 'cluster_lon']).sum().reset_index()\n",
        "    df_clusters['cons_pc'] = df_clusters['cons_ph'] / df_clusters['pph'] # divides total cluster income by people\n",
        "    df_clusters['country'] = 'ng'\n",
        "    return df_clusters[['country', 'cluster_lat', 'cluster_lon', 'cons_pc']]"
      ],
      "execution_count": null,
      "outputs": []
    },
    {
      "cell_type": "code",
      "metadata": {
        "id": "u672a4447RDu",
        "outputId": "dd6a99cf-33cf-4dce-f21a-cbfd14243d01"
      },
      "source": [
        "df_mw = process_malawi()"
      ],
      "execution_count": null,
      "outputs": [
        {
          "output_type": "stream",
          "text": [
            "/opt/conda/envs/predicting-poverty-replication/lib/python3.7/site-packages/pandas/core/frame.py:4133: SettingWithCopyWarning:\n",
            "\n",
            "\n",
            "A value is trying to be set on a copy of a slice from a DataFrame\n",
            "\n",
            "See the caveats in the documentation: https://pandas.pydata.org/pandas-docs/stable/user_guide/indexing.html#returning-a-view-versus-a-copy\n",
            "\n"
          ],
          "name": "stderr"
        }
      ]
    },
    {
      "cell_type": "code",
      "metadata": {
        "id": "BOOj3YYV7RDx"
      },
      "source": [
        "df_eth = process_ethiopia()"
      ],
      "execution_count": null,
      "outputs": []
    },
    {
      "cell_type": "code",
      "metadata": {
        "id": "bVojGnkB7RDx"
      },
      "source": [
        "df_ng = process_nigeria()"
      ],
      "execution_count": null,
      "outputs": []
    },
    {
      "cell_type": "code",
      "metadata": {
        "id": "h9SjnqQs7RDx",
        "outputId": "976cebad-0d71-46a9-fe8e-bf0987af7154"
      },
      "source": [
        "df_mw.shape, df_eth.shape, df_ng.shape"
      ],
      "execution_count": null,
      "outputs": [
        {
          "output_type": "execute_result",
          "data": {
            "text/plain": [
              "((780, 4), (523, 4), (664, 4))"
            ]
          },
          "metadata": {
            "tags": []
          },
          "execution_count": 8
        }
      ]
    },
    {
      "cell_type": "code",
      "metadata": {
        "id": "WZ_wiDrw7RDy"
      },
      "source": [
        "tifs = [geoio.GeoImage(ndir) for ndir in NIGHTLIGHTS_DIRS]"
      ],
      "execution_count": null,
      "outputs": []
    },
    {
      "cell_type": "code",
      "metadata": {
        "id": "QvEZZ8xc7RDy"
      },
      "source": [
        "# loading both of these into memory requires A LOT of free memory (at least 4 gigs)\n",
        "# using a swapfile of size 2 GB still did not fix my issues\n",
        "# instead, I knew ahead of time the 0th tif is for Malawi, and the 1st tif is for Ethiopia and Nigeria\n",
        "# I'll use this to only load one tif at a time\n",
        "# thankfully, the countries did not span across two tifs\n",
        "tif_array = np.squeeze(tifs[0].get_data())"
      ],
      "execution_count": null,
      "outputs": []
    },
    {
      "cell_type": "code",
      "metadata": {
        "id": "wnTCzlWj7RDy"
      },
      "source": [
        "def add_nightlights(df, tif, tif_array):\n",
        "    ''' \n",
        "    This takes a dataframe with columns cluster_lat, cluster_lon and finds the average \n",
        "    nightlights in 2015 using a 10kmx10km box around the point\n",
        "    \n",
        "    I try all the nighlights tifs until a match is found, or none are left upon which an error is raised\n",
        "    '''\n",
        "    cluster_nightlights = []\n",
        "    for i,r in df.iterrows():\n",
        "        min_lat, min_lon, max_lat, max_lon = create_space(r.cluster_lat, r.cluster_lon)\n",
        "        \n",
        "        xminPixel, ymaxPixel = tif.proj_to_raster(min_lon, min_lat)\n",
        "        xmaxPixel, yminPixel = tif.proj_to_raster(max_lon, max_lat)\n",
        "        assert xminPixel < xmaxPixel, print(r.cluster_lat, r.cluster_lon)\n",
        "        assert yminPixel < ymaxPixel, print(r.cluster_lat, r.cluster_lon)\n",
        "        if xminPixel < 0 or xmaxPixel >= tif_array.shape[1]:\n",
        "            print(f\"no match for {r.cluster_lat}, {r.cluster_lon}\")\n",
        "            raise ValueError()\n",
        "        elif yminPixel < 0 or ymaxPixel >= tif_array.shape[0]:\n",
        "            print(f\"no match for {r.cluster_lat}, {r.cluster_lon}\")\n",
        "            raise ValueError()\n",
        "        xminPixel, yminPixel, xmaxPixel, ymaxPixel = int(xminPixel), int(yminPixel), int(xmaxPixel), int(ymaxPixel)\n",
        "        cluster_nightlights.append(tif_array[yminPixel:ymaxPixel,xminPixel:xmaxPixel].mean())\n",
        "        \n",
        "    df['nightlights'] = cluster_nightlights"
      ],
      "execution_count": null,
      "outputs": []
    },
    {
      "cell_type": "code",
      "metadata": {
        "id": "IIlixIMx7RDz"
      },
      "source": [
        "add_nightlights(df_mw, tifs[0], tif_array)"
      ],
      "execution_count": null,
      "outputs": []
    },
    {
      "cell_type": "code",
      "metadata": {
        "id": "k0QIokfn7RDz",
        "outputId": "b6c967ae-d233-4e21-982e-d852cda81a73"
      },
      "source": [
        "del tif_array\n",
        "import gc\n",
        "gc.collect()"
      ],
      "execution_count": null,
      "outputs": [
        {
          "output_type": "execute_result",
          "data": {
            "text/plain": [
              "5403"
            ]
          },
          "metadata": {
            "tags": []
          },
          "execution_count": 36
        }
      ]
    },
    {
      "cell_type": "code",
      "metadata": {
        "id": "DGaXAYIJ7RDz",
        "outputId": "0833dde9-1f7e-4371-cc53-b0085e2439be"
      },
      "source": [
        "import psutil\n",
        "psutil.virtual_memory()"
      ],
      "execution_count": null,
      "outputs": [
        {
          "output_type": "execute_result",
          "data": {
            "text/plain": [
              "svmem(total=3883982848, available=3294400512, percent=15.2, used=440209408, free=3389562880, active=332414976, inactive=85729280, buffers=3567616, cached=50642944, shared=1142784, slab=24154112)"
            ]
          },
          "metadata": {
            "tags": []
          },
          "execution_count": 37
        }
      ]
    },
    {
      "cell_type": "code",
      "metadata": {
        "id": "jrSbOcn_7RD0"
      },
      "source": [
        "tif_array = np.squeeze(tifs[1].get_data())"
      ],
      "execution_count": null,
      "outputs": []
    },
    {
      "cell_type": "code",
      "metadata": {
        "id": "vemsVRBK7RD0"
      },
      "source": [
        "add_nightlights(df_eth, tifs[1], tif_array)"
      ],
      "execution_count": null,
      "outputs": []
    },
    {
      "cell_type": "code",
      "metadata": {
        "id": "QKb2hh757RD0"
      },
      "source": [
        "add_nightlights(df_ng, tifs[1], tif_array)"
      ],
      "execution_count": null,
      "outputs": []
    },
    {
      "cell_type": "code",
      "metadata": {
        "id": "8W2QcTyO7RD1",
        "outputId": "fb9a7be9-b73b-4a20-92b7-e6bf833471be"
      },
      "source": [
        "df_mw.head()"
      ],
      "execution_count": null,
      "outputs": [
        {
          "output_type": "execute_result",
          "data": {
            "text/html": [
              "<div>\n",
              "<style scoped>\n",
              "    .dataframe tbody tr th:only-of-type {\n",
              "        vertical-align: middle;\n",
              "    }\n",
              "\n",
              "    .dataframe tbody tr th {\n",
              "        vertical-align: top;\n",
              "    }\n",
              "\n",
              "    .dataframe thead th {\n",
              "        text-align: right;\n",
              "    }\n",
              "</style>\n",
              "<table border=\"1\" class=\"dataframe\">\n",
              "  <thead>\n",
              "    <tr style=\"text-align: right;\">\n",
              "      <th></th>\n",
              "      <th>country</th>\n",
              "      <th>cluster_lat</th>\n",
              "      <th>cluster_lon</th>\n",
              "      <th>cons_pc</th>\n",
              "      <th>nightlights</th>\n",
              "    </tr>\n",
              "  </thead>\n",
              "  <tbody>\n",
              "    <tr>\n",
              "      <th>0</th>\n",
              "      <td>mw</td>\n",
              "      <td>-17.095150</td>\n",
              "      <td>35.217213</td>\n",
              "      <td>1.423239</td>\n",
              "      <td>0.025206</td>\n",
              "    </tr>\n",
              "    <tr>\n",
              "      <th>1</th>\n",
              "      <td>mw</td>\n",
              "      <td>-17.092351</td>\n",
              "      <td>35.114643</td>\n",
              "      <td>1.266204</td>\n",
              "      <td>0.000000</td>\n",
              "    </tr>\n",
              "    <tr>\n",
              "      <th>2</th>\n",
              "      <td>mw</td>\n",
              "      <td>-17.016698</td>\n",
              "      <td>35.079629</td>\n",
              "      <td>1.566870</td>\n",
              "      <td>0.000000</td>\n",
              "    </tr>\n",
              "    <tr>\n",
              "      <th>3</th>\n",
              "      <td>mw</td>\n",
              "      <td>-16.977243</td>\n",
              "      <td>35.205706</td>\n",
              "      <td>1.669245</td>\n",
              "      <td>0.008266</td>\n",
              "    </tr>\n",
              "    <tr>\n",
              "      <th>4</th>\n",
              "      <td>mw</td>\n",
              "      <td>-16.956385</td>\n",
              "      <td>35.168967</td>\n",
              "      <td>1.089891</td>\n",
              "      <td>0.002295</td>\n",
              "    </tr>\n",
              "  </tbody>\n",
              "</table>\n",
              "</div>"
            ],
            "text/plain": [
              "  country  cluster_lat  cluster_lon   cons_pc  nightlights\n",
              "0      mw   -17.095150    35.217213  1.423239     0.025206\n",
              "1      mw   -17.092351    35.114643  1.266204     0.000000\n",
              "2      mw   -17.016698    35.079629  1.566870     0.000000\n",
              "3      mw   -16.977243    35.205706  1.669245     0.008266\n",
              "4      mw   -16.956385    35.168967  1.089891     0.002295"
            ]
          },
          "metadata": {
            "tags": []
          },
          "execution_count": 40
        }
      ]
    },
    {
      "cell_type": "code",
      "metadata": {
        "id": "0OAO6a9-7RD1",
        "outputId": "51f4c5c8-9034-436c-cbd6-887084ce2bc4"
      },
      "source": [
        "df_eth.head()"
      ],
      "execution_count": null,
      "outputs": [
        {
          "output_type": "execute_result",
          "data": {
            "text/html": [
              "<div>\n",
              "<style scoped>\n",
              "    .dataframe tbody tr th:only-of-type {\n",
              "        vertical-align: middle;\n",
              "    }\n",
              "\n",
              "    .dataframe tbody tr th {\n",
              "        vertical-align: top;\n",
              "    }\n",
              "\n",
              "    .dataframe thead th {\n",
              "        text-align: right;\n",
              "    }\n",
              "</style>\n",
              "<table border=\"1\" class=\"dataframe\">\n",
              "  <thead>\n",
              "    <tr style=\"text-align: right;\">\n",
              "      <th></th>\n",
              "      <th>country</th>\n",
              "      <th>cluster_lat</th>\n",
              "      <th>cluster_lon</th>\n",
              "      <th>cons_pc</th>\n",
              "      <th>nightlights</th>\n",
              "    </tr>\n",
              "  </thead>\n",
              "  <tbody>\n",
              "    <tr>\n",
              "      <th>0</th>\n",
              "      <td>eth</td>\n",
              "      <td>3.455701</td>\n",
              "      <td>39.515994</td>\n",
              "      <td>14.854634</td>\n",
              "      <td>0.0</td>\n",
              "    </tr>\n",
              "    <tr>\n",
              "      <th>1</th>\n",
              "      <td>eth</td>\n",
              "      <td>3.549937</td>\n",
              "      <td>39.184234</td>\n",
              "      <td>14.312022</td>\n",
              "      <td>0.0</td>\n",
              "    </tr>\n",
              "    <tr>\n",
              "      <th>2</th>\n",
              "      <td>eth</td>\n",
              "      <td>3.864243</td>\n",
              "      <td>39.101366</td>\n",
              "      <td>12.470145</td>\n",
              "      <td>0.0</td>\n",
              "    </tr>\n",
              "    <tr>\n",
              "      <th>3</th>\n",
              "      <td>eth</td>\n",
              "      <td>3.982931</td>\n",
              "      <td>38.491368</td>\n",
              "      <td>8.336539</td>\n",
              "      <td>0.0</td>\n",
              "    </tr>\n",
              "    <tr>\n",
              "      <th>4</th>\n",
              "      <td>eth</td>\n",
              "      <td>4.048194</td>\n",
              "      <td>41.930928</td>\n",
              "      <td>4.762526</td>\n",
              "      <td>0.0</td>\n",
              "    </tr>\n",
              "  </tbody>\n",
              "</table>\n",
              "</div>"
            ],
            "text/plain": [
              "  country  cluster_lat  cluster_lon    cons_pc  nightlights\n",
              "0     eth     3.455701    39.515994  14.854634          0.0\n",
              "1     eth     3.549937    39.184234  14.312022          0.0\n",
              "2     eth     3.864243    39.101366  12.470145          0.0\n",
              "3     eth     3.982931    38.491368   8.336539          0.0\n",
              "4     eth     4.048194    41.930928   4.762526          0.0"
            ]
          },
          "metadata": {
            "tags": []
          },
          "execution_count": 41
        }
      ]
    },
    {
      "cell_type": "code",
      "metadata": {
        "id": "DBNhnoEb7RD1",
        "outputId": "1598c795-6c12-464c-8032-20db8c681613"
      },
      "source": [
        "df_ng.head()"
      ],
      "execution_count": null,
      "outputs": [
        {
          "output_type": "execute_result",
          "data": {
            "text/html": [
              "<div>\n",
              "<style scoped>\n",
              "    .dataframe tbody tr th:only-of-type {\n",
              "        vertical-align: middle;\n",
              "    }\n",
              "\n",
              "    .dataframe tbody tr th {\n",
              "        vertical-align: top;\n",
              "    }\n",
              "\n",
              "    .dataframe thead th {\n",
              "        text-align: right;\n",
              "    }\n",
              "</style>\n",
              "<table border=\"1\" class=\"dataframe\">\n",
              "  <thead>\n",
              "    <tr style=\"text-align: right;\">\n",
              "      <th></th>\n",
              "      <th>country</th>\n",
              "      <th>cluster_lat</th>\n",
              "      <th>cluster_lon</th>\n",
              "      <th>cons_pc</th>\n",
              "      <th>nightlights</th>\n",
              "    </tr>\n",
              "  </thead>\n",
              "  <tbody>\n",
              "    <tr>\n",
              "      <th>0</th>\n",
              "      <td>ng</td>\n",
              "      <td>4.315786</td>\n",
              "      <td>6.268753</td>\n",
              "      <td>4.317717</td>\n",
              "      <td>0.123354</td>\n",
              "    </tr>\n",
              "    <tr>\n",
              "      <th>1</th>\n",
              "      <td>ng</td>\n",
              "      <td>4.328719</td>\n",
              "      <td>6.308172</td>\n",
              "      <td>4.880711</td>\n",
              "      <td>0.013713</td>\n",
              "    </tr>\n",
              "    <tr>\n",
              "      <th>2</th>\n",
              "      <td>ng</td>\n",
              "      <td>4.398427</td>\n",
              "      <td>7.183962</td>\n",
              "      <td>8.767258</td>\n",
              "      <td>38.470989</td>\n",
              "    </tr>\n",
              "    <tr>\n",
              "      <th>3</th>\n",
              "      <td>ng</td>\n",
              "      <td>4.425192</td>\n",
              "      <td>7.166935</td>\n",
              "      <td>10.774504</td>\n",
              "      <td>40.519035</td>\n",
              "    </tr>\n",
              "    <tr>\n",
              "      <th>4</th>\n",
              "      <td>ng</td>\n",
              "      <td>4.619377</td>\n",
              "      <td>7.684946</td>\n",
              "      <td>5.191333</td>\n",
              "      <td>0.000000</td>\n",
              "    </tr>\n",
              "  </tbody>\n",
              "</table>\n",
              "</div>"
            ],
            "text/plain": [
              "  country  cluster_lat  cluster_lon    cons_pc  nightlights\n",
              "0      ng     4.315786     6.268753   4.317717     0.123354\n",
              "1      ng     4.328719     6.308172   4.880711     0.013713\n",
              "2      ng     4.398427     7.183962   8.767258    38.470989\n",
              "3      ng     4.425192     7.166935  10.774504    40.519035\n",
              "4      ng     4.619377     7.684946   5.191333     0.000000"
            ]
          },
          "metadata": {
            "tags": []
          },
          "execution_count": 42
        }
      ]
    },
    {
      "cell_type": "code",
      "metadata": {
        "id": "zb3viu467RD2",
        "outputId": "70721b83-02ff-406f-f4b4-76fb3ec0ab67"
      },
      "source": [
        "df_mw['nightlights'].mean()"
      ],
      "execution_count": null,
      "outputs": [
        {
          "output_type": "execute_result",
          "data": {
            "text/plain": [
              "0.6038162894313969"
            ]
          },
          "metadata": {
            "tags": []
          },
          "execution_count": 45
        }
      ]
    },
    {
      "cell_type": "code",
      "metadata": {
        "id": "kOaTGcQd7RD2",
        "outputId": "f3effe30-9e7d-480d-9d84-2a48b9601a9f"
      },
      "source": [
        "df_eth['nightlights'].mean()"
      ],
      "execution_count": null,
      "outputs": [
        {
          "output_type": "execute_result",
          "data": {
            "text/plain": [
              "0.6727544504689029"
            ]
          },
          "metadata": {
            "tags": []
          },
          "execution_count": 44
        }
      ]
    },
    {
      "cell_type": "code",
      "metadata": {
        "id": "dHRwWmI67RD2",
        "outputId": "076f5a75-1402-46c0-d10d-2b34f1833435"
      },
      "source": [
        "df_ng['nightlights'].mean()"
      ],
      "execution_count": null,
      "outputs": [
        {
          "output_type": "execute_result",
          "data": {
            "text/plain": [
              "1.6584013095848769"
            ]
          },
          "metadata": {
            "tags": []
          },
          "execution_count": 43
        }
      ]
    },
    {
      "cell_type": "code",
      "metadata": {
        "id": "JDB-fXK47RD2",
        "outputId": "eade08f5-0c4e-466a-dbd9-6f5187fc5827"
      },
      "source": [
        "df_mw.corr()"
      ],
      "execution_count": null,
      "outputs": [
        {
          "output_type": "execute_result",
          "data": {
            "text/html": [
              "<div>\n",
              "<style scoped>\n",
              "    .dataframe tbody tr th:only-of-type {\n",
              "        vertical-align: middle;\n",
              "    }\n",
              "\n",
              "    .dataframe tbody tr th {\n",
              "        vertical-align: top;\n",
              "    }\n",
              "\n",
              "    .dataframe thead th {\n",
              "        text-align: right;\n",
              "    }\n",
              "</style>\n",
              "<table border=\"1\" class=\"dataframe\">\n",
              "  <thead>\n",
              "    <tr style=\"text-align: right;\">\n",
              "      <th></th>\n",
              "      <th>cluster_lat</th>\n",
              "      <th>cluster_lon</th>\n",
              "      <th>cons_pc</th>\n",
              "      <th>nightlights</th>\n",
              "    </tr>\n",
              "  </thead>\n",
              "  <tbody>\n",
              "    <tr>\n",
              "      <th>cluster_lat</th>\n",
              "      <td>1.000000</td>\n",
              "      <td>-0.702793</td>\n",
              "      <td>-0.026563</td>\n",
              "      <td>-0.083273</td>\n",
              "    </tr>\n",
              "    <tr>\n",
              "      <th>cluster_lon</th>\n",
              "      <td>-0.702793</td>\n",
              "      <td>1.000000</td>\n",
              "      <td>-0.002947</td>\n",
              "      <td>-0.033367</td>\n",
              "    </tr>\n",
              "    <tr>\n",
              "      <th>cons_pc</th>\n",
              "      <td>-0.026563</td>\n",
              "      <td>-0.002947</td>\n",
              "      <td>1.000000</td>\n",
              "      <td>0.384939</td>\n",
              "    </tr>\n",
              "    <tr>\n",
              "      <th>nightlights</th>\n",
              "      <td>-0.083273</td>\n",
              "      <td>-0.033367</td>\n",
              "      <td>0.384939</td>\n",
              "      <td>1.000000</td>\n",
              "    </tr>\n",
              "  </tbody>\n",
              "</table>\n",
              "</div>"
            ],
            "text/plain": [
              "             cluster_lat  cluster_lon   cons_pc  nightlights\n",
              "cluster_lat     1.000000    -0.702793 -0.026563    -0.083273\n",
              "cluster_lon    -0.702793     1.000000 -0.002947    -0.033367\n",
              "cons_pc        -0.026563    -0.002947  1.000000     0.384939\n",
              "nightlights    -0.083273    -0.033367  0.384939     1.000000"
            ]
          },
          "metadata": {
            "tags": []
          },
          "execution_count": 46
        }
      ]
    },
    {
      "cell_type": "code",
      "metadata": {
        "id": "JVrBxBtW7RD3",
        "outputId": "f36a3634-faed-4757-b62c-5816f4e7b5a7"
      },
      "source": [
        "df_eth.corr()"
      ],
      "execution_count": null,
      "outputs": [
        {
          "output_type": "execute_result",
          "data": {
            "text/html": [
              "<div>\n",
              "<style scoped>\n",
              "    .dataframe tbody tr th:only-of-type {\n",
              "        vertical-align: middle;\n",
              "    }\n",
              "\n",
              "    .dataframe tbody tr th {\n",
              "        vertical-align: top;\n",
              "    }\n",
              "\n",
              "    .dataframe thead th {\n",
              "        text-align: right;\n",
              "    }\n",
              "</style>\n",
              "<table border=\"1\" class=\"dataframe\">\n",
              "  <thead>\n",
              "    <tr style=\"text-align: right;\">\n",
              "      <th></th>\n",
              "      <th>cluster_lat</th>\n",
              "      <th>cluster_lon</th>\n",
              "      <th>cons_pc</th>\n",
              "      <th>nightlights</th>\n",
              "    </tr>\n",
              "  </thead>\n",
              "  <tbody>\n",
              "    <tr>\n",
              "      <th>cluster_lat</th>\n",
              "      <td>1.000000</td>\n",
              "      <td>0.157130</td>\n",
              "      <td>-0.052673</td>\n",
              "      <td>-0.006627</td>\n",
              "    </tr>\n",
              "    <tr>\n",
              "      <th>cluster_lon</th>\n",
              "      <td>0.157130</td>\n",
              "      <td>1.000000</td>\n",
              "      <td>0.211846</td>\n",
              "      <td>0.076039</td>\n",
              "    </tr>\n",
              "    <tr>\n",
              "      <th>cons_pc</th>\n",
              "      <td>-0.052673</td>\n",
              "      <td>0.211846</td>\n",
              "      <td>1.000000</td>\n",
              "      <td>0.343879</td>\n",
              "    </tr>\n",
              "    <tr>\n",
              "      <th>nightlights</th>\n",
              "      <td>-0.006627</td>\n",
              "      <td>0.076039</td>\n",
              "      <td>0.343879</td>\n",
              "      <td>1.000000</td>\n",
              "    </tr>\n",
              "  </tbody>\n",
              "</table>\n",
              "</div>"
            ],
            "text/plain": [
              "             cluster_lat  cluster_lon   cons_pc  nightlights\n",
              "cluster_lat     1.000000     0.157130 -0.052673    -0.006627\n",
              "cluster_lon     0.157130     1.000000  0.211846     0.076039\n",
              "cons_pc        -0.052673     0.211846  1.000000     0.343879\n",
              "nightlights    -0.006627     0.076039  0.343879     1.000000"
            ]
          },
          "metadata": {
            "tags": []
          },
          "execution_count": 47
        }
      ]
    },
    {
      "cell_type": "code",
      "metadata": {
        "id": "LS-GY-g87RD3",
        "outputId": "9d261d4b-15fe-43b7-d038-aaed9703e183"
      },
      "source": [
        "df_ng.corr()"
      ],
      "execution_count": null,
      "outputs": [
        {
          "output_type": "execute_result",
          "data": {
            "text/html": [
              "<div>\n",
              "<style scoped>\n",
              "    .dataframe tbody tr th:only-of-type {\n",
              "        vertical-align: middle;\n",
              "    }\n",
              "\n",
              "    .dataframe tbody tr th {\n",
              "        vertical-align: top;\n",
              "    }\n",
              "\n",
              "    .dataframe thead th {\n",
              "        text-align: right;\n",
              "    }\n",
              "</style>\n",
              "<table border=\"1\" class=\"dataframe\">\n",
              "  <thead>\n",
              "    <tr style=\"text-align: right;\">\n",
              "      <th></th>\n",
              "      <th>cluster_lat</th>\n",
              "      <th>cluster_lon</th>\n",
              "      <th>cons_pc</th>\n",
              "      <th>nightlights</th>\n",
              "    </tr>\n",
              "  </thead>\n",
              "  <tbody>\n",
              "    <tr>\n",
              "      <th>cluster_lat</th>\n",
              "      <td>1.000000</td>\n",
              "      <td>0.330910</td>\n",
              "      <td>-0.376356</td>\n",
              "      <td>-0.188281</td>\n",
              "    </tr>\n",
              "    <tr>\n",
              "      <th>cluster_lon</th>\n",
              "      <td>0.330910</td>\n",
              "      <td>1.000000</td>\n",
              "      <td>-0.246189</td>\n",
              "      <td>-0.196671</td>\n",
              "    </tr>\n",
              "    <tr>\n",
              "      <th>cons_pc</th>\n",
              "      <td>-0.376356</td>\n",
              "      <td>-0.246189</td>\n",
              "      <td>1.000000</td>\n",
              "      <td>0.264398</td>\n",
              "    </tr>\n",
              "    <tr>\n",
              "      <th>nightlights</th>\n",
              "      <td>-0.188281</td>\n",
              "      <td>-0.196671</td>\n",
              "      <td>0.264398</td>\n",
              "      <td>1.000000</td>\n",
              "    </tr>\n",
              "  </tbody>\n",
              "</table>\n",
              "</div>"
            ],
            "text/plain": [
              "             cluster_lat  cluster_lon   cons_pc  nightlights\n",
              "cluster_lat     1.000000     0.330910 -0.376356    -0.188281\n",
              "cluster_lon     0.330910     1.000000 -0.246189    -0.196671\n",
              "cons_pc        -0.376356    -0.246189  1.000000     0.264398\n",
              "nightlights    -0.188281    -0.196671  0.264398     1.000000"
            ]
          },
          "metadata": {
            "tags": []
          },
          "execution_count": 48
        }
      ]
    },
    {
      "cell_type": "code",
      "metadata": {
        "id": "lN1XJTs77RD3"
      },
      "source": [
        "for country in ['malawi_2016', 'ethiopia_2015', 'nigeria_2015']:\n",
        "    os.makedirs(os.path.join(COUNTRIES_DIR, country, 'processed'), exist_ok=True)"
      ],
      "execution_count": null,
      "outputs": []
    },
    {
      "cell_type": "code",
      "metadata": {
        "id": "Ulxrnsx_7RD3"
      },
      "source": [
        "df_mw.to_csv(os.path.join(COUNTRIES_DIR, 'malawi_2016', 'processed/clusters.csv'), index=False)"
      ],
      "execution_count": null,
      "outputs": []
    },
    {
      "cell_type": "code",
      "metadata": {
        "id": "1sWonMc_7RD4"
      },
      "source": [
        "df_eth.to_csv(os.path.join(COUNTRIES_DIR, 'ethiopia_2015', 'processed/clusters.csv'), index=False)"
      ],
      "execution_count": null,
      "outputs": []
    },
    {
      "cell_type": "code",
      "metadata": {
        "id": "H5GeSZkA7RD5"
      },
      "source": [
        "df_ng.to_csv(os.path.join(COUNTRIES_DIR, 'nigeria_2015', 'processed/clusters.csv'), index=False)"
      ],
      "execution_count": null,
      "outputs": []
    },
    {
      "cell_type": "code",
      "metadata": {
        "id": "DfUexdNw7RD5"
      },
      "source": [
        ""
      ],
      "execution_count": null,
      "outputs": []
    }
  ]
}